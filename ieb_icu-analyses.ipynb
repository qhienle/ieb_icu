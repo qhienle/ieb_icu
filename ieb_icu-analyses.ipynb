{
 "cells": [
  {
   "cell_type": "markdown",
   "metadata": {},
   "source": [
    "# Ilots EthnoBotaniques - Ilots de Chaleur Urbains\n",
    "\n",
    "Analyses des données récoltées a fort de l'île Sainte-Hélène été 2023."
   ]
  },
  {
   "cell_type": "code",
   "execution_count": null,
   "metadata": {},
   "outputs": [],
   "source": [
    "import requests\n",
    "import pandas as pd\n",
    "from geopy.geocoders import Nominatim"
   ]
  },
  {
   "cell_type": "code",
   "execution_count": null,
   "metadata": {},
   "outputs": [],
   "source": [
    "geolocator = Nominatim(user_agent=\"hien_foo\")\n",
    "montreal = geolocator.geocode(\"Montreal, Quebec, Canada\")\n",
    "lat = montreal.latitude\n",
    "lon = montreal.longitude\n",
    "\n",
    "print(f\"{lat}, {lon}\")"
   ]
  },
  {
   "cell_type": "code",
   "execution_count": 3,
   "metadata": {},
   "outputs": [
    {
     "data": {
      "text/html": [
       "<div>\n",
       "<style scoped>\n",
       "    .dataframe tbody tr th:only-of-type {\n",
       "        vertical-align: middle;\n",
       "    }\n",
       "\n",
       "    .dataframe tbody tr th {\n",
       "        vertical-align: top;\n",
       "    }\n",
       "\n",
       "    .dataframe thead th {\n",
       "        text-align: right;\n",
       "    }\n",
       "</style>\n",
       "<table border=\"1\" class=\"dataframe\">\n",
       "  <thead>\n",
       "    <tr style=\"text-align: right;\">\n",
       "      <th></th>\n",
       "      <th>No.</th>\n",
       "      <th>Time</th>\n",
       "      <th>Temperature℃</th>\n",
       "    </tr>\n",
       "  </thead>\n",
       "  <tbody>\n",
       "    <tr>\n",
       "      <th>0</th>\n",
       "      <td>1</td>\n",
       "      <td>2023-06-28 14:46:48</td>\n",
       "      <td>22.3</td>\n",
       "    </tr>\n",
       "    <tr>\n",
       "      <th>1</th>\n",
       "      <td>2</td>\n",
       "      <td>2023-06-28 15:01:48</td>\n",
       "      <td>21.9</td>\n",
       "    </tr>\n",
       "    <tr>\n",
       "      <th>2</th>\n",
       "      <td>3</td>\n",
       "      <td>2023-06-28 15:16:48</td>\n",
       "      <td>21.3</td>\n",
       "    </tr>\n",
       "    <tr>\n",
       "      <th>3</th>\n",
       "      <td>4</td>\n",
       "      <td>2023-06-28 15:31:48</td>\n",
       "      <td>21.3</td>\n",
       "    </tr>\n",
       "    <tr>\n",
       "      <th>4</th>\n",
       "      <td>5</td>\n",
       "      <td>2023-06-28 15:46:48</td>\n",
       "      <td>20.9</td>\n",
       "    </tr>\n",
       "    <tr>\n",
       "      <th>...</th>\n",
       "      <td>...</td>\n",
       "      <td>...</td>\n",
       "      <td>...</td>\n",
       "    </tr>\n",
       "    <tr>\n",
       "      <th>648</th>\n",
       "      <td>649</td>\n",
       "      <td>2023-07-05 08:46:48</td>\n",
       "      <td>25.4</td>\n",
       "    </tr>\n",
       "    <tr>\n",
       "      <th>649</th>\n",
       "      <td>650</td>\n",
       "      <td>2023-07-05 09:01:48</td>\n",
       "      <td>26.0</td>\n",
       "    </tr>\n",
       "    <tr>\n",
       "      <th>650</th>\n",
       "      <td>651</td>\n",
       "      <td>2023-07-05 09:16:48</td>\n",
       "      <td>26.7</td>\n",
       "    </tr>\n",
       "    <tr>\n",
       "      <th>651</th>\n",
       "      <td>652</td>\n",
       "      <td>2023-07-05 09:31:48</td>\n",
       "      <td>27.1</td>\n",
       "    </tr>\n",
       "    <tr>\n",
       "      <th>652</th>\n",
       "      <td>653</td>\n",
       "      <td>2023-07-05 09:46:48</td>\n",
       "      <td>27.8</td>\n",
       "    </tr>\n",
       "  </tbody>\n",
       "</table>\n",
       "<p>653 rows × 3 columns</p>\n",
       "</div>"
      ],
      "text/plain": [
       "     No.                 Time  Temperature℃\n",
       "0      1  2023-06-28 14:46:48          22.3\n",
       "1      2  2023-06-28 15:01:48          21.9\n",
       "2      3  2023-06-28 15:16:48          21.3\n",
       "3      4  2023-06-28 15:31:48          21.3\n",
       "4      5  2023-06-28 15:46:48          20.9\n",
       "..   ...                  ...           ...\n",
       "648  649  2023-07-05 08:46:48          25.4\n",
       "649  650  2023-07-05 09:01:48          26.0\n",
       "650  651  2023-07-05 09:16:48          26.7\n",
       "651  652  2023-07-05 09:31:48          27.1\n",
       "652  653  2023-07-05 09:46:48          27.8\n",
       "\n",
       "[653 rows x 3 columns]"
      ]
     },
     "execution_count": 3,
     "metadata": {},
     "output_type": "execute_result"
    }
   ],
   "source": [
    "df78 = pd.read_excel('data/EFE231100378_0000001.xlsx', skiprows=28, usecols=[0, 1, 2])\n",
    "df78"
   ]
  },
  {
   "cell_type": "code",
   "execution_count": null,
   "metadata": {},
   "outputs": [],
   "source": [
    "# https://www.thepythoncode.com/article/interactive-weather-plot-with-matplotlib-and-requests\n",
    "\n",
    "# Define some Locations to choose from.\n",
    "# Latitude and Longitude\n",
    "# \n",
    "locations = {\n",
    "    'Schaffhausen': ['47.7', '8.6'],\n",
    "    'Sydney': ['-33.86', '151.20'],\n",
    "    'Kyiv': ['50.4422', '30.5367'],\n",
    "    'Constantine': ['36.368258', '6.560254'],\n",
    "    'Yakutsk': ['62.0', '129.7'],\n",
    "}\n",
    "\n",
    "# make a function to get the temperatures of a given location\n",
    "#\n",
    "def getTemperatures(location):\n",
    "    # get the lat and long of the location\n",
    "    lat, lon = locations[location]\n",
    "    req = requests.get(f'https://api.open-meteo.com/v1/forecast?latitude={lat}&longitude={lon}&hourly=temperature_2m')\n",
    "    req = json.loads(req.text)\n",
    "    # get the tempratures\n",
    "    temperatures = req['hourly']['temperature_2m']\n",
    "    # get the times\n",
    "    times = req['hourly']['time']\n",
    "    return times, temperatures"
   ]
  },
  {
   "cell_type": "code",
   "execution_count": null,
   "metadata": {},
   "outputs": [],
   "source": [
    "df78.plot()"
   ]
  }
 ],
 "metadata": {
  "kernelspec": {
   "display_name": "Python 3",
   "language": "python",
   "name": "python3"
  },
  "language_info": {
   "codemirror_mode": {
    "name": "ipython",
    "version": 3
   },
   "file_extension": ".py",
   "mimetype": "text/x-python",
   "name": "python",
   "nbconvert_exporter": "python",
   "pygments_lexer": "ipython3",
   "version": "3.10.4"
  },
  "orig_nbformat": 4
 },
 "nbformat": 4,
 "nbformat_minor": 2
}

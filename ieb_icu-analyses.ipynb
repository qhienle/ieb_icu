{
 "cells": [
  {
   "cell_type": "markdown",
   "metadata": {},
   "source": [
    "# Ilots EthnoBotaniques - Ilots de Chaleur Urbains\n",
    "\n",
    "Analyses des données récoltées a fort de l'île Sainte-Hélène été 2023."
   ]
  },
  {
   "cell_type": "code",
   "execution_count": null,
   "metadata": {},
   "outputs": [
    {
     "ename": "",
     "evalue": "",
     "output_type": "error",
     "traceback": [
      "\u001b[1;31mRunning cells with 'c:\\Users\\lequa000\\AppData\\Local\\mambaforge\\envs\\ilots\\python.exe' requires the ipykernel package.\n",
      "\u001b[1;31mRun the following command to install 'ipykernel' into the Python environment. \n",
      "\u001b[1;31mCommand: 'conda install -p c:\\Users\\lequa000\\AppData\\Local\\mambaforge\\envs\\ilots ipykernel --update-deps --force-reinstall'"
     ]
    }
   ],
   "source": [
    "import requests\n",
    "import json\n",
    "import pandas as pd\n",
    "from geopy.geocoders import Nominatim"
   ]
  },
  {
   "cell_type": "code",
   "execution_count": null,
   "metadata": {},
   "outputs": [],
   "source": [
    "geolocator = Nominatim(user_agent=\"hien_foo\")\n",
    "montreal = geolocator.geocode(\"Montreal, Quebec, Canada\")\n",
    "lat = montreal.latitude\n",
    "lon = montreal.longitude\n",
    "\n",
    "print(f\"{lat}, {lon}\")"
   ]
  },
  {
   "cell_type": "code",
   "execution_count": null,
   "metadata": {},
   "outputs": [],
   "source": [
    "# https://www.thepythoncode.com/article/interactive-weather-plot-with-matplotlib-and-requests\n",
    "\n",
    "# Get the temperatures of a given location\n",
    "#\n",
    "req = requests.get(f'https://api.open-meteo.com/v1/forecast?latitude={lat}&longitude={lon}&hourly=temperature_2m')\n",
    "req = json.loads(req.text)\n",
    "\n",
    "# get the tempratures\n",
    "temperatures = req['hourly']['temperature_2m']\n",
    "\n",
    "# get the times\n",
    "times = req['hourly']['time']"
   ]
  },
  {
   "cell_type": "code",
   "execution_count": null,
   "metadata": {},
   "outputs": [],
   "source": [
    "df78 = pd.read_excel('data/EFE231100378_0000001.xlsx', skiprows=28, usecols=[0, 1, 2])\n",
    "df78"
   ]
  },
  {
   "cell_type": "code",
   "execution_count": null,
   "metadata": {},
   "outputs": [],
   "source": [
    "df78.plot()"
   ]
  }
 ],
 "metadata": {
  "kernelspec": {
   "display_name": "Python 3",
   "language": "python",
   "name": "python3"
  },
  "language_info": {
   "codemirror_mode": {
    "name": "ipython",
    "version": 3
   },
   "file_extension": ".py",
   "mimetype": "text/x-python",
   "name": "python",
   "nbconvert_exporter": "python",
   "pygments_lexer": "ipython3",
   "version": "3.10.4"
  },
  "orig_nbformat": 4
 },
 "nbformat": 4,
 "nbformat_minor": 2
}
